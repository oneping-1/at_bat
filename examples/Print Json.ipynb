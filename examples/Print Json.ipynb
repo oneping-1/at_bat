{
 "cells": [
  {
   "cell_type": "code",
   "execution_count": 2,
   "metadata": {},
   "outputs": [],
   "source": [
    "import json\n",
    "from at_bat.game import Game\n",
    "\n",
    "data = Game.get_dict(748549, delay_seconds=60)\n",
    "\n",
    "with open('game.json', 'w') as file:\n",
    "    file.write(json.dumps(data, indent=4))\n"
   ]
  },
  {
   "cell_type": "code",
   "execution_count": 3,
   "metadata": {},
   "outputs": [],
   "source": [
    "import json\n",
    "from at_bat.standings import Standings\n",
    "\n",
    "standings_data = Standings.get_dict(league='AL')\n",
    "\n",
    "with open('standing_data.json', 'w') as file:\n",
    "    file.write(json.dumps(standings_data, indent=4))"
   ]
  },
  {
   "cell_type": "code",
   "execution_count": 9,
   "metadata": {},
   "outputs": [
    {
     "data": {
      "text/plain": [
       "0.2512279491851146"
      ]
     },
     "execution_count": 9,
     "metadata": {},
     "output_type": "execute_result"
    }
   ],
   "source": [
    "import pandas as pd\n",
    "from at_bat.game_parser import GameParser\n",
    "\n",
    "g = GameParser(778275).dataframe\n",
    "float(g[~(pd.isna(g['at_bat_event_type'])) & (g['is_top_inning'] == True)]['batted_ball_xba'].mean())"
   ]
  }
 ],
 "metadata": {
  "kernelspec": {
   "display_name": "MLBenv",
   "language": "python",
   "name": "python3"
  },
  "language_info": {
   "codemirror_mode": {
    "name": "ipython",
    "version": 3
   },
   "file_extension": ".py",
   "mimetype": "text/x-python",
   "name": "python",
   "nbconvert_exporter": "python",
   "pygments_lexer": "ipython3",
   "version": "3.9.21"
  },
  "orig_nbformat": 4
 },
 "nbformat": 4,
 "nbformat_minor": 2
}
